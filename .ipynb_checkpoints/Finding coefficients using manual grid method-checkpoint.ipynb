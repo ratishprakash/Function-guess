{
 "cells": [
  {
   "cell_type": "code",
   "execution_count": 8,
   "metadata": {},
   "outputs": [],
   "source": [
    "import pandas as pd\n",
    "import matplotlib.pyplot as plt\n",
    "import numpy as np\n"
   ]
  },
  {
   "cell_type": "markdown",
   "metadata": {},
   "source": [
    "# Importing the data"
   ]
  },
  {
   "cell_type": "code",
   "execution_count": 2,
   "metadata": {},
   "outputs": [
    {
     "name": "stdout",
     "output_type": "stream",
     "text": [
      "(61, 2)\n"
     ]
    }
   ],
   "source": [
    "data=pd.read_excel('data.xlsx',sheet_name=\"Sheet1\")\n",
    "print(data.shape)"
   ]
  },
  {
   "cell_type": "markdown",
   "metadata": {},
   "source": [
    "# Finding out the coefficents"
   ]
  },
  {
   "cell_type": "code",
   "execution_count": 3,
   "metadata": {},
   "outputs": [
    {
     "name": "stdout",
     "output_type": "stream",
     "text": [
      "3 -5 5\n"
     ]
    }
   ],
   "source": [
    "X=data[\"x\"]\n",
    "y=data[\"y\"]\n",
    "ame_list=[]\n",
    "y_pred_total=0\n",
    "y_sum=0\n",
    "min_amr=999999999\n",
    "amr=0\n",
    "a_coff=-5\n",
    "b_coff=-5\n",
    "c_coff=-5\n",
    "for i in range(len(X)):\n",
    "    y_sum+=y[i]\n",
    "for a in range(-5,6):\n",
    "    for b in range(-5,6):\n",
    "        for c in range(-5,6):\n",
    "            for i in range(len(X)):\n",
    "                y_pred_total+=a*X[i]**2+b*X[i]+c\n",
    "            amr=abs((y_pred_total-y_sum)/61)\n",
    "            ame_list.append(amr)\n",
    "            if amr<min_amr:\n",
    "                min_amr=amr\n",
    "                a_coff=a\n",
    "                b_coff=b\n",
    "                c_coff=c\n",
    "            y_pred_total=0            \n",
    "print(a_coff,b_coff,c_coff)\n"
   ]
  },
  {
   "cell_type": "code",
   "execution_count": 4,
   "metadata": {},
   "outputs": [
    {
     "name": "stdout",
     "output_type": "stream",
     "text": [
      "1331\n"
     ]
    }
   ],
   "source": [
    "print(len(ame_list))"
   ]
  },
  {
   "cell_type": "markdown",
   "metadata": {},
   "source": [
    "# Plotting  ordered Absolute mean error in a graph"
   ]
  },
  {
   "cell_type": "code",
   "execution_count": 5,
   "metadata": {},
   "outputs": [
    {
     "data": {
      "text/plain": [
       "[<matplotlib.lines.Line2D at 0x7fad76810340>]"
      ]
     },
     "execution_count": 5,
     "metadata": {},
     "output_type": "execute_result"
    },
    {
     "data": {
      "image/png": "[encoded data removed]",
      "text/plain": [
       "<Figure size 432x288 with 1 Axes>"
      ]
     },
     "metadata": {
      "needs_background": "light"
     },
     "output_type": "display_data"
    }
   ],
   "source": [
    "ame_list_sorted=sorted(ame_list)\n",
    "# print(ame_list_sorted)\n",
    "X_axis=[int(x) for x in range(1,1332)]\n",
    "# print(X_axis)\n",
    "plt.plot(X_axis,ame_list_sorted)"
   ]
  },
  {
   "cell_type": "markdown",
   "metadata": {},
   "source": [
    "# Adding New Variable x^2 (Basis Expansion)"
   ]
  },
  {
   "cell_type": "code",
   "execution_count": 18,
   "metadata": {},
   "outputs": [
    {
     "name": "stdout",
     "output_type": "stream",
     "text": [
      "[900, 841, 784, 729, 676, 625, 576, 529, 484, 441, 400, 361, 324, 289, 256, 225, 196, 169, 144, 121, 100, 81, 64, 49, 36, 25, 16, 9, 4, 1, 0, 1, 4, 9, 16, 25, 36, 49, 64, 81, 100, 121, 144, 169, 196, 225, 256, 289, 324, 361, 400, 441, 484, 529, 576, 625, 676, 729, 784, 841, 900]\n",
      "[1, 1, 1, 1, 1, 1, 1, 1, 1, 1, 1, 1, 1, 1, 1, 1, 1, 1, 1, 1, 1, 1, 1, 1, 1, 1, 1, 1, 1, 1, 1, 1, 1, 1, 1, 1, 1, 1, 1, 1, 1, 1, 1, 1, 1, 1, 1, 1, 1, 1, 1, 1, 1, 1, 1, 1, 1, 1, 1, 1, 1]\n"
     ]
    }
   ],
   "source": [
    "x_power0=[int(1) for x in range(61)]\n",
    "x_power1=[X[i] for i in range(61)]\n",
    "x_square=[]\n",
    "for i in range(len(X)):\n",
    "    x_square.append(X[i]**2)\n",
    "print(x_square)\n",
    "# print(x_power1)\n",
    "print(x_power0)"
   ]
  },
  {
   "cell_type": "code",
   "execution_count": 33,
   "metadata": {},
   "outputs": [
    {
     "name": "stdout",
     "output_type": "stream",
     "text": [
      "[ 2.99988409 -4.99777873 26.11787947]\n"
     ]
    }
   ],
   "source": [
    "mat1=np.array([x_square,x_power1,x_power0])\n",
    "mat1_t=mat1.transpose()\n",
    "x_t_x_inverse=np.linalg.inv(np.dot(mat1,mat1_t))\n",
    "mat2=np.array([y[i] for i in range(61)])\n",
    "y_t=mat2.transpose()\n",
    "x_y=np.dot(mat1,y_t)\n",
    "print(np.dot(x_t_x_inverse,x_y))"
   ]
  },
  {
   "cell_type": "code",
   "execution_count": null,
   "metadata": {},
   "outputs": [],
   "source": []
  }
 ],
 "metadata": {
  "kernelspec": {
   "display_name": "Python 3",
   "language": "python",
   "name": "python3"
  },
  "language_info": {
   "codemirror_mode": {
    "name": "ipython",
    "version": 3
   },
   "file_extension": ".py",
   "mimetype": "text/x-python",
   "name": "python",
   "nbconvert_exporter": "python",
   "pygments_lexer": "ipython3",
   "version": "3.8.5"
  }
 },
 "nbformat": 4,
 "nbformat_minor": 4
}
