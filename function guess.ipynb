{
 "cells": [
  {
   "cell_type": "code",
   "execution_count": 12,
   "id": "e8460aad",
   "metadata": {},
   "outputs": [],
   "source": [
    "import pandas as pd\n",
    "import numpy as np\n",
    "import matplotlib.pyplot as plt\n",
    "from sklearn.metrics import r2_score\n",
    "\n"
   ]
  },
  {
   "cell_type": "code",
   "execution_count": null,
   "id": "2b264182",
   "metadata": {},
   "outputs": [],
   "source": []
  },
  {
   "cell_type": "code",
   "execution_count": 6,
   "id": "6dea1b2e",
   "metadata": {},
   "outputs": [
    {
     "name": "stdout",
     "output_type": "stream",
     "text": [
      "(61, 2)\n",
      "    x            y\n",
      "0 -30  2879.936493\n",
      "1 -29  2696.403266\n",
      "2 -28  2497.097949\n",
      "3 -27  2369.455162\n",
      "4 -26  2179.932915\n"
     ]
    }
   ],
   "source": [
    "data= pd.read_excel ('data.xlsx', sheet_name='Sheet1')\n",
    "print(data.shape)\n",
    "print(data.head())"
   ]
  },
  {
   "cell_type": "code",
   "execution_count": 7,
   "id": "56d4d4a8",
   "metadata": {},
   "outputs": [
    {
     "name": "stdout",
     "output_type": "stream",
     "text": [
      "0    -30\n",
      "1    -29\n",
      "2    -28\n",
      "3    -27\n",
      "4    -26\n",
      "      ..\n",
      "56    26\n",
      "57    27\n",
      "58    28\n",
      "59    29\n",
      "60    30\n",
      "Name: x, Length: 61, dtype: int64\n"
     ]
    },
    {
     "data": {
      "image/png": "[encoded data removed]",
      "text/plain": [
       "<Figure size 432x288 with 1 Axes>"
      ]
     },
     "metadata": {
      "needs_background": "light"
     },
     "output_type": "display_data"
    }
   ],
   "source": [
    "X=data[\"x\"]\n",
    "y=data[\"y\"]\n",
    "print(X)\n",
    "# X_train, X_test, y_train, y_test = train_test_split(X, y, test_size=0.30)\n",
    "plt.scatter(X,y)\n",
    "plt.show()"
   ]
  },
  {
   "cell_type": "code",
   "execution_count": 32,
   "id": "4dd34d7e",
   "metadata": {},
   "outputs": [
    {
     "data": {
      "image/png": "[encoded data removed]",
      "text/plain": [
       "<Figure size 432x288 with 1 Axes>"
      ]
     },
     "metadata": {
      "needs_background": "light"
     },
     "output_type": "display_data"
    }
   ],
   "source": [
    "model = np.poly1d(np.polyfit(X, y, 2))\n",
    "\n",
    "polyline = np.linspace(-30,60)\n",
    "# plt.scatter(X, y)\n",
    "plt.plot(polyline, model(polyline))\n",
    "plt.show()"
   ]
  },
  {
   "cell_type": "code",
   "execution_count": 26,
   "id": "f5f58a6c",
   "metadata": {},
   "outputs": [
    {
     "name": "stdout",
     "output_type": "stream",
     "text": [
      "   2\n",
      "3 x - 4.998 x + 26.12\n"
     ]
    }
   ],
   "source": [
    "print(model)"
   ]
  },
  {
   "cell_type": "code",
   "execution_count": 36,
   "id": "ea4dc52f",
   "metadata": {},
   "outputs": [
    {
     "name": "stdout",
     "output_type": "stream",
     "text": [
      "776.09\n"
     ]
    }
   ],
   "source": [
    "x=-15\n",
    "y_pred=3*x**2-4.998*x+26.12\n",
    "print(y_pred)"
   ]
  },
  {
   "cell_type": "code",
   "execution_count": 37,
   "id": "572031b8",
   "metadata": {},
   "outputs": [],
   "source": [
    "x_mean=np.mean(X)\n",
    "y_mean=np.mean(y)\n",
    "# print(x_mean,y_mean)\n",
    "\n",
    "# num=0\n",
    "# dem=0\n",
    "# for i in range(len(X)):\n",
    "#     num+=(X[i]-x_mean)*(X[i]-y_mean)\n",
    "#     dem+=(x[i]-x_mean)**2\n",
    "# m=num/dem\n",
    "# c=y_mean - m*x_mean"
   ]
  },
  {
   "cell_type": "markdown",
   "id": "27eb1af5",
   "metadata": {},
   "source": [
    "# r2 value"
   ]
  },
  {
   "cell_type": "code",
   "execution_count": 41,
   "id": "ab7cc530",
   "metadata": {},
   "outputs": [
    {
     "name": "stdout",
     "output_type": "stream",
     "text": [
      "0.9997195721260851\n"
     ]
    }
   ],
   "source": [
    "ss_tot=0\n",
    "ss_res=0\n",
    "for i in range(len(X)):\n",
    "    y_pred=3*X[i]**2-4.998*X[i]+26.12\n",
    "    ss_tot+=(y[i]-y_mean)**2\n",
    "    ss_res+=(y[i]-y_pred)**2\n",
    "r2=1-(ss_res/ss_tot)\n",
    "print(r2)"
   ]
  },
  {
   "cell_type": "code",
   "execution_count": 42,
   "id": "f89ba0bb",
   "metadata": {},
   "outputs": [
    {
     "name": "stdout",
     "output_type": "stream",
     "text": [
      "2876.06\n",
      "2694.062\n",
      "2518.064\n",
      "2348.066\n",
      "2184.0679999999998\n",
      "2026.07\n",
      "1874.072\n",
      "1728.0739999999998\n",
      "1588.0759999999998\n",
      "1454.078\n",
      "1326.08\n",
      "1204.0819999999999\n",
      "1088.0839999999998\n",
      "978.086\n",
      "874.088\n",
      "776.09\n",
      "684.092\n",
      "598.094\n",
      "518.096\n",
      "444.098\n",
      "376.1\n",
      "314.102\n",
      "258.104\n",
      "208.106\n",
      "164.108\n",
      "126.11000000000001\n",
      "94.11200000000001\n",
      "68.114\n",
      "48.116\n",
      "34.118\n",
      "26.12\n",
      "24.122\n",
      "28.124000000000002\n",
      "38.126000000000005\n",
      "54.128\n",
      "76.13\n",
      "104.132\n",
      "138.134\n",
      "178.136\n",
      "224.138\n",
      "276.14\n",
      "334.142\n",
      "398.144\n",
      "468.146\n",
      "544.148\n",
      "626.15\n",
      "714.152\n",
      "808.154\n",
      "908.1560000000001\n",
      "1014.158\n",
      "1126.1599999999999\n",
      "1244.1619999999998\n",
      "1368.164\n",
      "1498.166\n",
      "1634.168\n",
      "1776.1699999999998\n",
      "1924.1719999999998\n",
      "2078.174\n",
      "2238.176\n",
      "2404.178\n",
      "2576.18\n"
     ]
    }
   ],
   "source": [
    "for i in range(len(X)):\n",
    "    y_pred=3*X[i]**2-4.998*X[i]+26.12\n",
    "    print(y_pred)"
   ]
  },
  {
   "cell_type": "code",
   "execution_count": null,
   "id": "ffc87dae",
   "metadata": {},
   "outputs": [],
   "source": []
  }
 ],
 "metadata": {
  "kernelspec": {
   "display_name": "Python 3 (ipykernel)",
   "language": "python",
   "name": "python3"
  },
  "language_info": {
   "codemirror_mode": {
    "name": "ipython",
    "version": 3
   },
   "file_extension": ".py",
   "mimetype": "text/x-python",
   "name": "python",
   "nbconvert_exporter": "python",
   "pygments_lexer": "ipython3",
   "version": "3.9.6"
  }
 },
 "nbformat": 4,
 "nbformat_minor": 5
}
